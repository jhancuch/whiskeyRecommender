{
 "cells": [
  {
   "cell_type": "code",
   "execution_count": 1,
   "metadata": {},
   "outputs": [],
   "source": [
    "# load libraries\n",
    "\n",
    "import os\n",
    "import requests\n",
    "from bs4 import BeautifulSoup\n",
    "import pandas as pd\n"
   ]
  },
  {
   "cell_type": "code",
   "execution_count": 2,
   "metadata": {},
   "outputs": [],
   "source": [
    "# grab the webpage that contains all of the URLs for the review pages\n",
    "\n",
    "url = 'https://whiskeyconsensus.com/reviews/'\n",
    "\n",
    "header = {\n",
    "    'User-Agent': 'Mozilla/5.0 (Macintosh; Intel Mac OS X 10_15_6) AppleWebKit/605.1.15 (KHTML, like Gecko) Version/14.0.3 Safari/605.1.15',\n",
    "}\n",
    "\n",
    "page = requests.get(url, headers=header)\n",
    "\n",
    "soup = BeautifulSoup(page.content, 'html.parser')"
   ]
  },
  {
   "cell_type": "code",
   "execution_count": 3,
   "metadata": {},
   "outputs": [
    {
     "name": "stdout",
     "output_type": "stream",
     "text": [
      "                                             reviewUrl\n",
      "0    https://whiskeyconsensus.com/elijah-craig-barr...\n",
      "1    https://whiskeyconsensus.com/bookers-30th-anni...\n",
      "2    https://whiskeyconsensus.com/michters-20-year-...\n",
      "3    https://whiskeyconsensus.com/william-larue-wel...\n",
      "4    https://whiskeyconsensus.com/four-roses-limite...\n",
      "..                                                 ...\n",
      "447  https://whiskeyconsensus.com/three-chord-ampli...\n",
      "448  https://whiskeyconsensus.com/broken-barrel-isl...\n",
      "449  https://whiskeyconsensus.com/balcones-baby-blu...\n",
      "450  https://whiskeyconsensus.com/hudson-baby-bourb...\n",
      "451  https://whiskeyconsensus.com/balcones-texas-ry...\n",
      "\n",
      "[452 rows x 1 columns]\n"
     ]
    }
   ],
   "source": [
    "# parse the webpage to extract the url for each review\n",
    "\n",
    "results = soup.find_all('div', class_ = 'wppr-post-title wppr-col')\n",
    "\n",
    "\n",
    "urlList = []\n",
    "\n",
    "for urls in results:\n",
    "    link = urls.find('a')['href']\n",
    "    urlList.append(link)\n",
    "    \n",
    "datUrl = pd.DataFrame(urlList, columns =['reviewUrl'])\n",
    "\n",
    "print(datUrl)"
   ]
  },
  {
   "cell_type": "code",
   "execution_count": 4,
   "metadata": {},
   "outputs": [
    {
     "data": {
      "text/plain": [
       "'C:\\\\Users\\\\jwnha\\\\Documents\\\\Coding\\\\whiskey recommender\\\\raw data'"
      ]
     },
     "execution_count": 4,
     "metadata": {},
     "output_type": "execute_result"
    }
   ],
   "source": [
    "os.getcwd()"
   ]
  },
  {
   "cell_type": "code",
   "execution_count": 5,
   "metadata": {},
   "outputs": [],
   "source": [
    "datUrl.to_pickle(\"./whiskeyconsensus-reviews-urls.pkl\")"
   ]
  },
  {
   "cell_type": "code",
   "execution_count": null,
   "metadata": {},
   "outputs": [],
   "source": []
  }
 ],
 "metadata": {
  "kernelspec": {
   "display_name": "Python 3",
   "language": "python",
   "name": "python3"
  },
  "language_info": {
   "codemirror_mode": {
    "name": "ipython",
    "version": 3
   },
   "file_extension": ".py",
   "mimetype": "text/x-python",
   "name": "python",
   "nbconvert_exporter": "python",
   "pygments_lexer": "ipython3",
   "version": "3.8.8"
  }
 },
 "nbformat": 4,
 "nbformat_minor": 2
}
