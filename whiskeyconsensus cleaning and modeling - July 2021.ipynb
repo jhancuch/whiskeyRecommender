{
 "cells": [
  {
   "cell_type": "code",
   "execution_count": 2,
   "id": "31bd777f",
   "metadata": {},
   "outputs": [],
   "source": [
    "# import libraries\n",
    "\n",
    "import os\n",
    "import pandas as pd\n",
    "import nltk\n",
    "from nltk.corpus import stopwords\n",
    "import copy\n",
    "import textdistance\n"
   ]
  },
  {
   "cell_type": "code",
   "execution_count": 3,
   "id": "f6868391",
   "metadata": {},
   "outputs": [],
   "source": [
    "# Change working directory\n",
    "\n",
    "os.chdir(r'\\Users\\jwnha\\Documents\\Coding\\whiskey recommender\\raw data')"
   ]
  },
  {
   "cell_type": "code",
   "execution_count": 4,
   "id": "59deb8ee",
   "metadata": {},
   "outputs": [],
   "source": [
    "# Import raw data\n",
    "\n",
    "dat1 = pd.read_pickle('./whiskeyconsensus-reviews-raw-July-2021.pkl')"
   ]
  },
  {
   "cell_type": "code",
   "execution_count": 5,
   "id": "27f6dcd2",
   "metadata": {},
   "outputs": [],
   "source": [
    "# Step 1: Text cleaning -- normalize text\n",
    "\n",
    "# Lower case\n",
    "dat2 = dat1[['Color','Nose','Palate','Finish']].apply(lambda x: x.str.lower(), axis=0)\n",
    "\n",
    "# Remove punctuation\n",
    "dat3 = dat2[['Color','Nose','Palate','Finish']].apply(lambda x: x.str.replace('[^\\w\\s]', '', regex = True), axis=0)\n",
    "\n",
    "# Remove extra white space\n",
    "dat4 = dat3.replace('s+',' ', regex = True)\n",
    "\n",
    "dat5 = dat4.join(dat1[['Name', 'reviewUrl']])\n",
    "\n",
    "# Replace html ampersand escapes\n",
    "dat6 = dat5.replace('&amp;', '&', regex = True)\n"
   ]
  },
  {
   "cell_type": "code",
   "execution_count": 6,
   "id": "f52e0913",
   "metadata": {},
   "outputs": [],
   "source": [
    "# Step 2: Remove stop words\n",
    "stopWords = stopwords.words('english')\n",
    "for i in ['nose', 'palate', 'finish']:\n",
    "    stopWords.append(i)\n",
    "\n",
    "def removeStopWords(sentence):\n",
    "    'The function splits each string in a cell apart and rejoins the sentence after removing any stop words'\n",
    "    wordList=sentence.split()\n",
    "    cleanSentence = ' '.join([w for w in wordList if w.lower() not in stopWords])\n",
    "    return(cleanSentence)\n",
    "\n",
    "dat6['Nose'] = dat6['Nose'].apply(removeStopWords)\n",
    "dat6['Palate'] = dat6['Palate'].apply(removeStopWords)\n",
    "dat6['Finish'] = dat6['Finish'].apply(removeStopWords)"
   ]
  },
  {
   "cell_type": "code",
   "execution_count": 7,
   "id": "99287f86",
   "metadata": {
    "scrolled": true
   },
   "outputs": [
    {
     "name": "stdout",
     "output_type": "stream",
     "text": [
      "                Color                                               Nose  \\\n",
      "0       dark mahogany  [e, complex, ab, olut, incred, fill, dark, not...   \n",
      "1       dark che tnut  [vanilla, extract, fig, brown, ugar, roa, ted,...   \n",
      "2         yellow gold  [e, thi, bourbon, extraordinari, extrem, full,...   \n",
      "3        cherry amber  [e, rich, deep, weet, cherri, vanilla, note, m...   \n",
      "4  dark reddi h amber  [dank, mu, ty, oak, alt, caramel, e, pre, tar,...   \n",
      "\n",
      "                                              Palate  \\\n",
      "0  [equal, impr, ive, e, thick, contain, amaz, am...   \n",
      "1  [tart, heavi, vanilla, plum, tran, ition, whip...   \n",
      "2  [though, thought, impo, ibl, even, better, e, ...   \n",
      "3  [fir, ip, bold, coat, entir, oili, vi, co, iti...   \n",
      "4  [milk, chocol, malt, milk, ball, toffe, carame...   \n",
      "\n",
      "                                              Finish  \\\n",
      "0  [fini, h, long, carri, ju, everi, flavor, cont...   \n",
      "1  [long, weet, oak, brown, ugar, mapl, cinnamon,...   \n",
      "2  [fini, h, immen, eli, long, tick, everi, pect,...   \n",
      "3  [fini, h, plea, antli, linger, envelop, concoc...   \n",
      "4  [older, barrel, realli, flex, mu, cle, fini, h...   \n",
      "\n",
      "                                                Name  \\\n",
      "0   Elijah Craig Barrel Proof Batch B516 Proof 139.4   \n",
      "1                          Booker’s 30th Anniversary   \n",
      "2           Michter’s 20 Year Bourbon (2019 Release)   \n",
      "3                        William Larue Weller (2020)   \n",
      "4  Four Roses Limited Edition Small Batch (2019 R...   \n",
      "\n",
      "                                           reviewUrl  \n",
      "0  https://whiskeyconsensus.com/elijah-craig-barr...  \n",
      "1  https://whiskeyconsensus.com/bookers-30th-anni...  \n",
      "2  https://whiskeyconsensus.com/michters-20-year-...  \n",
      "3  https://whiskeyconsensus.com/william-larue-wel...  \n",
      "4  https://whiskeyconsensus.com/four-roses-limite...  \n"
     ]
    }
   ],
   "source": [
    "# Step 3: Stemming\n",
    "\n",
    "def stemming(sentence):\n",
    "    wordList=sentence.split()\n",
    "    stemmedSentence = [nltk.PorterStemmer().stem(word) for word in wordList]\n",
    "    return(stemmedSentence)\n",
    "\n",
    "dat6['Nose'] = dat6['Nose'].apply(stemming)\n",
    "dat6['Palate'] = dat6['Palate'].apply(stemming)\n",
    "dat6['Finish'] = dat6['Finish'].apply(stemming)\n",
    "\n",
    "print(dat6.head())"
   ]
  },
  {
   "cell_type": "code",
   "execution_count": 8,
   "id": "b795587e",
   "metadata": {},
   "outputs": [],
   "source": [
    "# Step 4: Calculate Jaccard similarity\n",
    "\n",
    "def similarityScore(chosenWhiskey, dataset):\n",
    "    '''\n",
    "    The function takes splits the dataset between the chosen whiskey and the other whiskeys and computes the Jaccard similarity\n",
    "    for each category (Nose, Palate, and Finish) before summing each of the scores together and returning the top 5 results\n",
    "    '''\n",
    "    chosenRow = dataset[dataset['Name'] == chosenWhiskey]\n",
    "    comparisonRows = dataset[dataset['Name'] != chosenWhiskey]\n",
    "    score = []\n",
    "    name = []\n",
    "    for i in range(0, len(comparisonRows)):\n",
    "        noseScore = textdistance.jaccard(chosenRow.iloc[0, 1], comparisonRows.iloc[i, 1])\n",
    "        palateScore = textdistance.jaccard(chosenRow.iloc[0, 2], comparisonRows.iloc[i, 2])\n",
    "        finishScore = textdistance.jaccard(chosenRow.iloc[0, 3], comparisonRows.iloc[i, 3])\n",
    "        tempScore = noseScore + palateScore + finishScore\n",
    "        score.append(tempScore)\n",
    "        name.append(comparisonRows.iloc[i, 4])\n",
    "    finalDat = pd.DataFrame()\n",
    "    finalDat['Name'] = name\n",
    "    finalDat['Score'] = score\n",
    "    returnDat = finalDat.sort_values(['Score'], ascending=False).iloc[0:5, 0:2]\n",
    "    return(returnDat)    \n",
    "    "
   ]
  },
  {
   "cell_type": "code",
   "execution_count": 9,
   "id": "1eb58a08",
   "metadata": {},
   "outputs": [],
   "source": [
    "# similarityScore('William Larue Weller (2020)', dat6)"
   ]
  },
  {
   "cell_type": "code",
   "execution_count": 10,
   "id": "72e79e38",
   "metadata": {},
   "outputs": [],
   "source": [
    "os.chdir(r'\\Users\\jwnha\\Documents\\Coding\\whiskey recommender\\clean data')\n",
    "dat6.to_pickle(\"./whiskeyconsensus-dataset-July-2021.pkl\")"
   ]
  },
  {
   "cell_type": "code",
   "execution_count": null,
   "id": "932f2cd0",
   "metadata": {},
   "outputs": [],
   "source": []
  }
 ],
 "metadata": {
  "kernelspec": {
   "display_name": "Python 3",
   "language": "python",
   "name": "python3"
  },
  "language_info": {
   "codemirror_mode": {
    "name": "ipython",
    "version": 3
   },
   "file_extension": ".py",
   "mimetype": "text/x-python",
   "name": "python",
   "nbconvert_exporter": "python",
   "pygments_lexer": "ipython3",
   "version": "3.8.8"
  }
 },
 "nbformat": 4,
 "nbformat_minor": 5
}
